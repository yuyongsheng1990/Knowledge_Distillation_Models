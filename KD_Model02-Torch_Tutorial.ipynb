{
 "cells": [
  {
   "cell_type": "code",
   "execution_count": 1,
   "id": "200d7b3f",
   "metadata": {
    "ExecuteTime": {
     "end_time": "2024-07-11T05:49:28.969134Z",
     "start_time": "2024-07-11T05:49:28.963864Z"
    }
   },
   "outputs": [],
   "source": [
    "# Torch Tutorial for knowledge distillation: https://pytorch.org/tutorials/beginner/knowledge_distillation_tutorial.html"
   ]
  },
  {
   "cell_type": "code",
   "execution_count": 39,
   "id": "3fff36e4",
   "metadata": {
    "ExecuteTime": {
     "end_time": "2024-07-11T07:36:20.189057Z",
     "start_time": "2024-07-11T07:36:20.184539Z"
    }
   },
   "outputs": [],
   "source": [
    "import torch\n",
    "import torch.nn as nn\n",
    "import torch.nn.functional as F\n",
    "import torch.optim as optim\n",
    "from torch.utils.data import DataLoader\n",
    "\n",
    "import torchvision.transforms as transforms\n",
    "import torchvision.datasets as datasets"
   ]
  },
  {
   "cell_type": "code",
   "execution_count": 4,
   "id": "f4079e41",
   "metadata": {
    "ExecuteTime": {
     "end_time": "2024-07-11T05:54:54.683994Z",
     "start_time": "2024-07-11T05:54:54.680161Z"
    }
   },
   "outputs": [],
   "source": [
    "# check if GPU is available, and if not, use the cpu\n",
    "device = torch.device('cuda' if torch.cuda.is_available() else 'cpu')"
   ]
  },
  {
   "cell_type": "markdown",
   "id": "1da0c346",
   "metadata": {
    "ExecuteTime": {
     "end_time": "2024-07-11T05:55:15.655370Z",
     "start_time": "2024-07-11T05:55:15.651976Z"
    }
   },
   "source": [
    "## data_prepare"
   ]
  },
  {
   "cell_type": "code",
   "execution_count": 6,
   "id": "5c888b43",
   "metadata": {
    "ExecuteTime": {
     "end_time": "2024-07-11T05:58:59.760487Z",
     "start_time": "2024-07-11T05:58:39.309198Z"
    }
   },
   "outputs": [
    {
     "name": "stdout",
     "output_type": "stream",
     "text": [
      "Downloading https://www.cs.toronto.edu/~kriz/cifar-10-python.tar.gz to ./data\\cifar-10-python.tar.gz\n"
     ]
    },
    {
     "name": "stderr",
     "output_type": "stream",
     "text": [
      "100%|██████████████████████████████████████████████████████████████| 170498071/170498071 [00:15<00:00, 11072661.09it/s]\n"
     ]
    },
    {
     "name": "stdout",
     "output_type": "stream",
     "text": [
      "Extracting ./data\\cifar-10-python.tar.gz to ./data\n",
      "Files already downloaded and verified\n"
     ]
    }
   ],
   "source": [
    "# Below we are preprocessing data for CIFAR-10. We use an arbitrary batch size of 128.\n",
    "transforms_cifar = transforms.Compose([\n",
    "    transforms.ToTensor(),\n",
    "    transforms.Normalize(mean=[0.485, 0.456, 0.406], std=[0.229, 0.224, 0.225]),\n",
    "])\n",
    "\n",
    "# Loading the CIFAR-10 dataset\n",
    "train_dataset = datasets.CIFAR10(root='./data', train=True, download=True, transform=transforms_cifar)\n",
    "test_dataset = datasets.CIFAR10(root='./data', train=False, download=True, transform=transforms_cifar)"
   ]
  },
  {
   "cell_type": "code",
   "execution_count": 8,
   "id": "1d64c627",
   "metadata": {
    "ExecuteTime": {
     "end_time": "2024-07-11T06:02:09.431118Z",
     "start_time": "2024-07-11T06:02:09.427448Z"
    }
   },
   "outputs": [],
   "source": [
    "# Dataloaders\n",
    "train_loader = DataLoader(train_dataset, batch_size=128, shuffle=True, num_workers=2)\n",
    "test_loader = DataLoader(test_dataset, batch_size=128, shuffle=False, num_workers=2)"
   ]
  },
  {
   "cell_type": "markdown",
   "id": "4182d0c1",
   "metadata": {
    "ExecuteTime": {
     "end_time": "2024-07-11T06:02:25.025412Z",
     "start_time": "2024-07-11T06:02:25.022418Z"
    }
   },
   "source": [
    "## Define Models"
   ]
  },
  {
   "cell_type": "markdown",
   "id": "35431bfd",
   "metadata": {
    "ExecuteTime": {
     "end_time": "2024-07-11T06:03:51.789758Z",
     "start_time": "2024-07-11T06:03:51.787307Z"
    }
   },
   "source": [
    "### DeepNN"
   ]
  },
  {
   "cell_type": "code",
   "execution_count": 12,
   "id": "2223c0c7",
   "metadata": {
    "ExecuteTime": {
     "end_time": "2024-07-11T06:09:00.684116Z",
     "start_time": "2024-07-11T06:09:00.676137Z"
    }
   },
   "outputs": [],
   "source": [
    "# Deeper neural network class to be used as teacher\n",
    "class DeepNN(nn.Module):\n",
    "    def __init__(self, num_classes=10):\n",
    "        super(DeepNN, self).__init__()\n",
    "        self.features = nn.Sequential(\n",
    "            nn.Conv2d(3, 128, kernel_size=3, padding=1),\n",
    "            nn.ReLU(),\n",
    "            nn.Conv2d(128, 64, kernel_size=3, padding=1),\n",
    "            nn.ReLU(),\n",
    "            nn.MaxPool2d(kernel_size=2, stride=2),\n",
    "            nn.Conv2d(64, 64, kernel_size=3, padding=1),\n",
    "            nn.ReLU(),\n",
    "            nn.Conv2d(64, 32, kernel_size=3, padding=1),\n",
    "            nn.ReLU(),\n",
    "            nn.MaxPool2d(kernel_size=2, stride=2),\n",
    "        )\n",
    "        self.classifier = nn.Sequential(\n",
    "            nn.Linear(2048, 512),\n",
    "            nn.ReLU(),\n",
    "            nn.Dropout(0.1),\n",
    "            nn.Linear(512, num_classes)\n",
    "        )\n",
    "    \n",
    "    def forward(self, x):\n",
    "        x = self.features(x)\n",
    "        x = torch.flatten(x, 1)\n",
    "        x = self.classifier(x)\n",
    "        return x"
   ]
  },
  {
   "cell_type": "markdown",
   "id": "3d56f863",
   "metadata": {
    "ExecuteTime": {
     "end_time": "2024-07-11T06:09:11.432575Z",
     "start_time": "2024-07-11T06:09:11.428784Z"
    }
   },
   "source": [
    "### LightNN"
   ]
  },
  {
   "cell_type": "code",
   "execution_count": 31,
   "id": "61f754b8",
   "metadata": {
    "ExecuteTime": {
     "end_time": "2024-07-11T07:25:56.661831Z",
     "start_time": "2024-07-11T07:25:56.655338Z"
    }
   },
   "outputs": [],
   "source": [
    "# Lightweight neural network class to be used as student\n",
    "class LightNN(nn.Module):\n",
    "    def __init__(self, num_classes=10):\n",
    "        super(LightNN, self).__init__()\n",
    "        self.features = nn.Sequential(\n",
    "            nn.Conv2d(3, 16, kernel_size=3, padding=1),\n",
    "            nn.ReLU(),\n",
    "            nn.MaxPool2d(kernel_size=2, stride=2),\n",
    "            nn.Conv2d(16, 16, kernel_size=3, padding=1),\n",
    "            nn.ReLU(),\n",
    "            nn.MaxPool2d(kernel_size=2, stride=2),\n",
    "        )\n",
    "        self.classifier = nn.Sequential(\n",
    "            nn.Linear(1024, 256),\n",
    "            nn.ReLU(),\n",
    "            nn.Dropout(0.1),\n",
    "            nn.Linear(256, num_classes),\n",
    "        )\n",
    "    \n",
    "    def forward(self, x):\n",
    "        x = self.features(x)\n",
    "        x = torch.flatten(x, 1)\n",
    "        x = self.classifier(x)\n",
    "        return x"
   ]
  },
  {
   "cell_type": "markdown",
   "id": "d50358bf",
   "metadata": {
    "ExecuteTime": {
     "end_time": "2024-07-11T06:18:04.622760Z",
     "start_time": "2024-07-11T06:18:04.618769Z"
    }
   },
   "source": [
    "### training and testing funcitons"
   ]
  },
  {
   "cell_type": "code",
   "execution_count": 17,
   "id": "7bf26380",
   "metadata": {
    "ExecuteTime": {
     "end_time": "2024-07-11T06:24:25.155666Z",
     "start_time": "2024-07-11T06:24:25.150423Z"
    }
   },
   "outputs": [],
   "source": [
    "def train(model, train_loader, epochs, learning_rate, device):\n",
    "    criterion = nn.CrossEntropyLoss()\n",
    "    optimizer = optim.Adam(model.parameters(), lr=learning_rate)\n",
    "    \n",
    "    model.train()\n",
    "    \n",
    "    for epoch in range(epochs):\n",
    "        running_loss = 0.0\n",
    "        for inputs, labels in train_loader:\n",
    "            # inputs: A collection of batch_size images\n",
    "            # labels: A vector of dimensionality batch_size with integers denoting class of each image\n",
    "            inputs, labels = inputs.to(device), labels.to(device)\n",
    "            optimizer.zero_grad()\n",
    "            outputs = model(inputs)\n",
    "            \n",
    "            # outputs: Output of the network for the collection of images. A tensor of dimensionality batch_size x num_classes\n",
    "            # labels: The actual labels of the images. Vector of dimensionality batch_size\n",
    "            loss = criterion(outputs, labels)\n",
    "            loss.backward()\n",
    "            optimizer.step()\n",
    "            \n",
    "            running_loss += loss.item()\n",
    "            \n",
    "        print(f\"Epoch {epoch+1}/{epochs}, Train_Loss: {running_loss / len(train_loader)}\")"
   ]
  },
  {
   "cell_type": "code",
   "execution_count": 18,
   "id": "a5076e85",
   "metadata": {
    "ExecuteTime": {
     "end_time": "2024-07-11T06:27:25.528379Z",
     "start_time": "2024-07-11T06:27:25.523409Z"
    }
   },
   "outputs": [],
   "source": [
    "def test(model, test_loader, device):\n",
    "    model.to(device)\n",
    "    model.eval()\n",
    "    \n",
    "    correct = 0\n",
    "    total = 0\n",
    "    with torch.no_grad():\n",
    "        for inputs, labels in test_loader:\n",
    "            inputs, labels = inputs.to(device), labels.to(device)\n",
    "            \n",
    "            outputs = model(inputs)\n",
    "            _, predicted = torch.max(outputs.data, 1)\n",
    "            \n",
    "            total += labels.size(0)\n",
    "            correct += (predicted == labels).sum().item()\n",
    "    accuracy = 100 * correct / total\n",
    "    print(f\"Test Accuracy: {accuracy: .2f}%\")\n",
    "    return accuracy"
   ]
  },
  {
   "cell_type": "markdown",
   "id": "624dd6b5",
   "metadata": {
    "ExecuteTime": {
     "end_time": "2024-07-11T06:28:08.496971Z",
     "start_time": "2024-07-11T06:28:08.494330Z"
    }
   },
   "source": [
    "### cross-entropy runs"
   ]
  },
  {
   "cell_type": "markdown",
   "id": "44e42eb7",
   "metadata": {
    "ExecuteTime": {
     "end_time": "2024-07-11T06:29:55.503053Z",
     "start_time": "2024-07-11T06:29:55.499376Z"
    }
   },
   "source": [
    "#### running DeepNN"
   ]
  },
  {
   "cell_type": "code",
   "execution_count": 21,
   "id": "868025d5",
   "metadata": {
    "ExecuteTime": {
     "end_time": "2024-07-11T07:09:01.924822Z",
     "start_time": "2024-07-11T06:30:15.756085Z"
    }
   },
   "outputs": [
    {
     "name": "stdout",
     "output_type": "stream",
     "text": [
      "Epoch 1/10, Train_Loss: 1.3621877626994687\n",
      "Epoch 2/10, Train_Loss: 0.9039473713511397\n",
      "Epoch 3/10, Train_Loss: 0.7056784529972564\n",
      "Epoch 4/10, Train_Loss: 0.5657938920018618\n",
      "Epoch 5/10, Train_Loss: 0.437897097805272\n",
      "Epoch 6/10, Train_Loss: 0.3359904433683971\n",
      "Epoch 7/10, Train_Loss: 0.2495878839012607\n",
      "Epoch 8/10, Train_Loss: 0.18941869723903554\n",
      "Epoch 9/10, Train_Loss: 0.15507488672995506\n",
      "Epoch 10/10, Train_Loss: 0.12575501867610475\n",
      "Test Accuracy:  75.04%\n"
     ]
    }
   ],
   "source": [
    "torch.manual_seed(42)\n",
    "nn_deep = DeepNN(num_classes=10).to(device)\n",
    "train(nn_deep, train_loader, epochs=10, learning_rate=0.001, device=device)\n",
    "test_accuracy_deep = test(nn_deep, test_loader, device)"
   ]
  },
  {
   "cell_type": "markdown",
   "id": "b6852ca0",
   "metadata": {
    "ExecuteTime": {
     "end_time": "2024-07-11T07:09:01.930945Z",
     "start_time": "2024-07-11T07:09:01.927321Z"
    }
   },
   "source": [
    "#### running LightNN"
   ]
  },
  {
   "cell_type": "code",
   "execution_count": 32,
   "id": "05d2f9fe",
   "metadata": {
    "ExecuteTime": {
     "end_time": "2024-07-11T07:26:00.940202Z",
     "start_time": "2024-07-11T07:26:00.925006Z"
    }
   },
   "outputs": [],
   "source": [
    "# Initialize the lightweight network\n",
    "torch.manual_seed(42)\n",
    "nn_light = LightNN(num_classes=10).to(device)\n",
    "\n",
    "# we instantiate one more lightweight model for knowledge distillation to compare their performances. \n",
    "# Back propagation is sensitive to weight initialilzation, so we need to make sure these two networks have the exact same initialization.\n",
    "torch.manual_seed(42)\n",
    "new_nn_light = LightNN(num_classes=10).to(device)"
   ]
  },
  {
   "cell_type": "code",
   "execution_count": 33,
   "id": "0019ac62",
   "metadata": {
    "ExecuteTime": {
     "end_time": "2024-07-11T07:26:03.894225Z",
     "start_time": "2024-07-11T07:26:03.887753Z"
    }
   },
   "outputs": [
    {
     "name": "stdout",
     "output_type": "stream",
     "text": [
      "Norm of 1st layer of nn_light: 2.327361822128296\n",
      "Norm of 1st layer of new_nn_light: 2.327361822128296\n"
     ]
    }
   ],
   "source": [
    "# print the norm of the first layer of the light weight models\n",
    "print(\"Norm of 1st layer of nn_light:\", torch.norm(nn_light.features[0].weight).item())\n",
    "print(\"Norm of 1st layer of new_nn_light:\", torch.norm(new_nn_light.features[0].weight).item())"
   ]
  },
  {
   "cell_type": "code",
   "execution_count": 35,
   "id": "edf16368",
   "metadata": {
    "ExecuteTime": {
     "end_time": "2024-07-11T07:26:22.844044Z",
     "start_time": "2024-07-11T07:26:22.839119Z"
    }
   },
   "outputs": [
    {
     "name": "stdout",
     "output_type": "stream",
     "text": [
      "DeepNN parameters: 1,186,986\n",
      "LightNN parameters: 267,738\n"
     ]
    }
   ],
   "source": [
    "# print the total number of parameters in each model\n",
    "total_params_deep = \"{:,}\".format(sum(p.numel() for p in nn_deep.parameters()))\n",
    "print(f\"DeepNN parameters: {total_params_deep}\")\n",
    "total_params_light = \"{:,}\".format(sum(p.numel() for p in nn_light.parameters()))\n",
    "print(f\"LightNN parameters: {total_params_light}\")"
   ]
  },
  {
   "cell_type": "code",
   "execution_count": 36,
   "id": "cc0ac37e",
   "metadata": {
    "ExecuteTime": {
     "end_time": "2024-07-11T07:30:30.248365Z",
     "start_time": "2024-07-11T07:26:25.978931Z"
    }
   },
   "outputs": [
    {
     "name": "stdout",
     "output_type": "stream",
     "text": [
      "Epoch 1/10, Train_Loss: 1.4584239163362156\n",
      "Epoch 2/10, Train_Loss: 1.1506041994180216\n",
      "Epoch 3/10, Train_Loss: 1.0183946664071144\n",
      "Epoch 4/10, Train_Loss: 0.9245466835358563\n",
      "Epoch 5/10, Train_Loss: 0.8482528150538959\n",
      "Epoch 6/10, Train_Loss: 0.7804726214360094\n",
      "Epoch 7/10, Train_Loss: 0.7131863570274295\n",
      "Epoch 8/10, Train_Loss: 0.6577138483829206\n",
      "Epoch 9/10, Train_Loss: 0.6036398121920388\n",
      "Epoch 10/10, Train_Loss: 0.5515439357141705\n",
      "Test Accuracy:  69.73%\n"
     ]
    }
   ],
   "source": [
    "# train and test lightweight network with cross entropy loss\n",
    "train(nn_light, train_loader, epochs=10, learning_rate=0.001, device=device)\n",
    "test_accuracy_light_ce = test(nn_light, test_loader, device)"
   ]
  },
  {
   "cell_type": "code",
   "execution_count": 38,
   "id": "8f0e8f93",
   "metadata": {
    "ExecuteTime": {
     "end_time": "2024-07-11T07:30:56.668733Z",
     "start_time": "2024-07-11T07:30:56.663959Z"
    }
   },
   "outputs": [
    {
     "name": "stdout",
     "output_type": "stream",
     "text": [
      "Teacher accuracy: 75.04%\n",
      "Student accuracy: 69.73%\n"
     ]
    }
   ],
   "source": [
    "print(f\"Teacher accuracy: {test_accuracy_deep:.2f}%\")\n",
    "print(f\"Student accuracy: {test_accuracy_light_ce:.2f}%\")"
   ]
  },
  {
   "cell_type": "markdown",
   "id": "8d0693c1",
   "metadata": {
    "ExecuteTime": {
     "end_time": "2024-07-11T07:09:02.128807Z",
     "start_time": "2024-07-11T07:09:02.128807Z"
    }
   },
   "source": [
    "### training knowledge distillation"
   ]
  },
  {
   "cell_type": "code",
   "execution_count": 45,
   "id": "72957f12",
   "metadata": {
    "ExecuteTime": {
     "end_time": "2024-07-11T07:47:40.960403Z",
     "start_time": "2024-07-11T07:47:40.953555Z"
    }
   },
   "outputs": [],
   "source": [
    "def train_knowledge_distillation(teacher, student, train_loader, epochs, learning_rate, T, soft_target_loss_weight, \n",
    "                                ce_loss_weight, device):\n",
    "    ce_loss = nn.CrossEntropyLoss()\n",
    "    optimizer = optim.Adam(student.parameters(), lr=learning_rate)\n",
    "    \n",
    "    teacher.eval()  # Teacher set to evaluation mode\n",
    "    student.train()  # Student to train mode\n",
    "    \n",
    "    for epoch in range(epochs): \n",
    "        running_loss = 0.0\n",
    "        for inputs, labels in train_loader:\n",
    "            inputs, labels = inputs.to(device), labels.to(device)\n",
    "            optimizer.zero_grad()\n",
    "            # Forward pass with the teacher model - do not save gradients here as we do not change the teacher's weights\n",
    "            with torch.no_grad():\n",
    "                teacher_logits = teacher(inputs)\n",
    "            \n",
    "            # Forward pass with the student model\n",
    "            student_logits = student(inputs)\n",
    "            \n",
    "            # Soften the student logits by applying softmax first and log() second\n",
    "            soft_targets = F.softmax(teacher_logits / T, dim=-1)\n",
    "            soft_prob = F.log_softmax(student_logits / T, dim=-1)\n",
    "            \n",
    "            # Calculate the soft targets loss. Scaled by T**2 as suggested by the authors of the paper \"Distilling the knowledge in a neural network\"\n",
    "            soft_targets_loss = torch.sum(soft_targets * (soft_targets.log() - soft_prob)) / soft_prob.size()[0] * (T**2)\n",
    "            \n",
    "            # Calculate the true label loss\n",
    "            label_loss = ce_loss(student_logits, labels)\n",
    "            \n",
    "            # Weighted sum of the two losses\n",
    "            loss = soft_target_loss_weight * soft_targets_loss + ce_loss_weight * label_loss\n",
    "            \n",
    "            loss.backward()\n",
    "            optimizer.step()\n",
    "            \n",
    "            running_loss += loss.item()\n",
    "        print(f\"Epoch {epoch+1}/{epochs}, Loss: {running_loss / len(train_loader)}\")"
   ]
  },
  {
   "cell_type": "code",
   "execution_count": 46,
   "id": "b42318fc",
   "metadata": {
    "ExecuteTime": {
     "end_time": "2024-07-11T08:06:22.634568Z",
     "start_time": "2024-07-11T07:47:41.608387Z"
    }
   },
   "outputs": [
    {
     "name": "stdout",
     "output_type": "stream",
     "text": [
      "Epoch 1/10, Loss: 2.3944996811849686\n",
      "Epoch 2/10, Loss: 1.8428954312868435\n",
      "Epoch 3/10, Loss: 1.6162752291125715\n",
      "Epoch 4/10, Loss: 1.4622494927452654\n",
      "Epoch 5/10, Loss: 1.3339652150793149\n",
      "Epoch 6/10, Loss: 1.216781522916711\n",
      "Epoch 7/10, Loss: 1.1258911095616762\n",
      "Epoch 8/10, Loss: 1.0300040181030703\n",
      "Epoch 9/10, Loss: 0.9425400297355164\n",
      "Epoch 10/10, Loss: 0.8669911873005235\n",
      "Test Accuracy:  71.04%\n",
      "Teacher accuracy: 75.04%\n",
      "Student accuracy without teacher: 69.73%\n",
      "Student accuracy with CE + KD: 71.04%\n"
     ]
    }
   ],
   "source": [
    "# apply \"train knowledge distillation\" with a temperature of 2.\n",
    "train_knowledge_distillation(teacher=nn_deep, student=new_nn_light, train_loader=train_loader, epochs=10, learning_rate=0.001,\n",
    "                            T=2, soft_target_loss_weight=0.25, ce_loss_weight=0.75, device=device)\n",
    "test_accuracy_light_ce_and_kd = test(new_nn_light, test_loader, device)\n",
    "\n",
    "# Compare the student test accuracy with and without the teacher, after distillation\n",
    "print(f\"Teacher accuracy: {test_accuracy_deep:.2f}%\")\n",
    "print(f\"Student accuracy without teacher: {test_accuracy_light_ce:.2f}%\")\n",
    "print(f\"Student accuracy with CE + KD: {test_accuracy_light_ce_and_kd:.2f}%\")"
   ]
  }
 ],
 "metadata": {
  "kernelspec": {
   "display_name": "Python 3 (ipykernel)",
   "language": "python",
   "name": "python3"
  },
  "language_info": {
   "codemirror_mode": {
    "name": "ipython",
    "version": 3
   },
   "file_extension": ".py",
   "mimetype": "text/x-python",
   "name": "python",
   "nbconvert_exporter": "python",
   "pygments_lexer": "ipython3",
   "version": "3.11.7"
  },
  "toc": {
   "base_numbering": 1,
   "nav_menu": {},
   "number_sections": true,
   "sideBar": true,
   "skip_h1_title": false,
   "title_cell": "Table of Contents",
   "title_sidebar": "Contents",
   "toc_cell": false,
   "toc_position": {
    "height": "calc(100% - 180px)",
    "left": "10px",
    "top": "150px",
    "width": "384px"
   },
   "toc_section_display": true,
   "toc_window_display": true
  }
 },
 "nbformat": 4,
 "nbformat_minor": 5
}
