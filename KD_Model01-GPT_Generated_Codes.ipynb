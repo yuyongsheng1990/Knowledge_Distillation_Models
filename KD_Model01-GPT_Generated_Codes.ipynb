{
 "cells": [
  {
   "cell_type": "code",
   "execution_count": 1,
   "id": "b9e64b3d",
   "metadata": {
    "ExecuteTime": {
     "end_time": "2024-07-10T01:53:16.331552Z",
     "start_time": "2024-07-10T01:53:16.326568Z"
    }
   },
   "outputs": [],
   "source": [
    "# GPT-4 生成的代码"
   ]
  },
  {
   "cell_type": "markdown",
   "id": "a49afc8d",
   "metadata": {
    "ExecuteTime": {
     "end_time": "2024-07-10T01:57:02.243069Z",
     "start_time": "2024-07-10T01:57:02.239746Z"
    }
   },
   "source": [
    "## GPT Generation"
   ]
  },
  {
   "cell_type": "code",
   "execution_count": 3,
   "id": "62f1623b",
   "metadata": {
    "ExecuteTime": {
     "end_time": "2024-07-10T01:58:13.558785Z",
     "start_time": "2024-07-10T01:58:13.553991Z"
    }
   },
   "outputs": [],
   "source": [
    "import torch\n",
    "import torch.nn as nn\n",
    "import torch.optim as optim\n",
    "\n",
    "from torchvision import datasets, transforms\n",
    "from torch.utils.data import DataLoader"
   ]
  },
  {
   "cell_type": "code",
   "execution_count": null,
   "id": "6c8015c7",
   "metadata": {},
   "outputs": [],
   "source": [
    "'''\n",
    "DataLoader是torch中用于加载数据的一个重要类，它将dataset划分成小批次batch size，并提供迭代器接受以方便训练时batch-wise读取数据。\n",
    "return: DataLoader函数返回一个包含两个元素的元组(data, target).\n",
    "    - data，当前batch input data，通常是一个四维tensor, shape=(batch_size, channels, height, width)\n",
    "    - target, 当前batch label，通常是一个一维tensor, shape=(batch_size,)\n",
    "'''"
   ]
  },
  {
   "cell_type": "markdown",
   "id": "5086c311",
   "metadata": {
    "ExecuteTime": {
     "end_time": "2024-07-10T01:58:29.275316Z",
     "start_time": "2024-07-10T01:58:29.272151Z"
    }
   },
   "source": [
    "### teacher model"
   ]
  },
  {
   "cell_type": "code",
   "execution_count": 5,
   "id": "642b5892",
   "metadata": {
    "ExecuteTime": {
     "end_time": "2024-07-10T02:01:00.284326Z",
     "start_time": "2024-07-10T02:01:00.279411Z"
    }
   },
   "outputs": [],
   "source": [
    "class TeacherNet(nn.Module):\n",
    "    def __init__(self):\n",
    "        super(TeacherNet, self).__init__()\n",
    "        self.fc1 = nn.Linear(28*28, 400)\n",
    "        self.fc2 = nn.Linear(400, 200)\n",
    "        self.fc3 = nn.Linear(200, 10)\n",
    "    \n",
    "    def forward(self, x):\n",
    "        x = x.view(-1, 28*28)\n",
    "        x = torch.relu(self.fc1(x))\n",
    "        x = torch.relu(self.fc2(x))\n",
    "        x = self.fc3(x)\n",
    "        return x"
   ]
  },
  {
   "cell_type": "markdown",
   "id": "3a98b9b8",
   "metadata": {
    "ExecuteTime": {
     "end_time": "2024-07-10T02:01:06.593706Z",
     "start_time": "2024-07-10T02:01:06.590594Z"
    }
   },
   "source": [
    "### student model"
   ]
  },
  {
   "cell_type": "code",
   "execution_count": 7,
   "id": "69b7d3f6",
   "metadata": {
    "ExecuteTime": {
     "end_time": "2024-07-10T02:03:01.997653Z",
     "start_time": "2024-07-10T02:03:01.992663Z"
    }
   },
   "outputs": [],
   "source": [
    "class StudentNet(nn.Module):\n",
    "    def __init__(self):\n",
    "        super(StudentNet, self).__init__()\n",
    "        self.fc1 = nn.Linear(28*28, 100)\n",
    "        self.fc2 = nn.Linear(100, 10)\n",
    "    \n",
    "    def forward(self, x):\n",
    "        x = x.view(-1, 28*28)\n",
    "        x = torch.relu(self.fc1(x))\n",
    "        x = self.fc2(x)\n",
    "        return x"
   ]
  },
  {
   "cell_type": "markdown",
   "id": "50125443",
   "metadata": {
    "ExecuteTime": {
     "end_time": "2024-07-10T02:03:16.736808Z",
     "start_time": "2024-07-10T02:03:16.733726Z"
    }
   },
   "source": [
    "### loss function"
   ]
  },
  {
   "cell_type": "code",
   "execution_count": 9,
   "id": "69413cb4",
   "metadata": {
    "ExecuteTime": {
     "end_time": "2024-07-10T02:05:47.244107Z",
     "start_time": "2024-07-10T02:05:47.239215Z"
    }
   },
   "outputs": [],
   "source": [
    "'''\n",
    "KLDivLoss，用于计算KL散度(Kullback-Leibler)，用于衡量两个概率分布之间差异的非对称度量。\n",
    "D_KL(P||Q)=Σpi log(pi/qi), pi是真实概率，qi是近似概率\n",
    "KD Loss = α*T^2*KL_loss + (1-α)*cross_entropy_loss\n",
    "'''\n",
    "# 损失函数\n",
    "def distillation_loss(student_logits, teacher_logits, targets, temperature, alpha):\n",
    "    soft_loss = nn.KLDivLoss()(torch.log_softmax(student_logits / temperature, dim=1),  # 学生output 与 teacher output\n",
    "                              torch.softmax(teacher_logits / temperature, dim=1)) * (temperature ** 2) # 指数运算\n",
    "    hard_loss = nn.CrossEntropyLoss()(student_logits, targets)  # 学生output 与 target\n",
    "    return alpha * soft_loss + (1-alpha) * hard_loss"
   ]
  },
  {
   "cell_type": "markdown",
   "id": "7215b70a",
   "metadata": {
    "ExecuteTime": {
     "end_time": "2024-07-10T02:15:10.993997Z",
     "start_time": "2024-07-10T02:15:10.990528Z"
    }
   },
   "source": [
    "### training teacher model"
   ]
  },
  {
   "cell_type": "code",
   "execution_count": 25,
   "id": "dd1f213e",
   "metadata": {
    "ExecuteTime": {
     "end_time": "2024-07-10T02:44:03.991682Z",
     "start_time": "2024-07-10T02:44:03.985698Z"
    }
   },
   "outputs": [],
   "source": [
    "def train_teacher():\n",
    "    teacher_model.train()\n",
    "    optimizer_teacher = optim.Adam(teacher_model.parameters(), lr=0.001)\n",
    "    for epoch in range(5):\n",
    "        for batch_idx, (data, target) in enumerate(train_dataloader):\n",
    "            optimizer_teacher.zero_grad()\n",
    "            output = teacher_model(data)\n",
    "            loss = nn.CrossEntropyLoss()(output, target)\n",
    "            loss.backward()\n",
    "            optimizer_teacher.step()\n",
    "        print(f\"Teacher Epoch: {epoch+1}, Loss: {loss.item()}\")"
   ]
  },
  {
   "cell_type": "markdown",
   "id": "9134cbc0",
   "metadata": {
    "ExecuteTime": {
     "end_time": "2024-07-10T02:19:03.518954Z",
     "start_time": "2024-07-10T02:19:03.515714Z"
    }
   },
   "source": [
    "### training student model"
   ]
  },
  {
   "cell_type": "code",
   "execution_count": 22,
   "id": "d65c5a61",
   "metadata": {
    "ExecuteTime": {
     "end_time": "2024-07-10T02:43:28.924919Z",
     "start_time": "2024-07-10T02:43:28.919686Z"
    }
   },
   "outputs": [],
   "source": [
    "def train_student(temperature, alpha):\n",
    "    teacher_model.eval()\n",
    "    student_model.train()\n",
    "    for epoch in range(5):\n",
    "        for batch_idx, (data, target) in enumerate(train_dataloader):\n",
    "            optimizer.zero_grad()\n",
    "            teacher_output = teacher_model(data).detach()\n",
    "            student_output = student_model(data)\n",
    "            loss = distillation_loss(student_output, teacher_output, target, temperature, alpha)\n",
    "            loss.backward()\n",
    "            optimizer.step()\n",
    "        print(f\"Student Epoch: {epoch+1}, Loss: {loss.item()}\")"
   ]
  },
  {
   "cell_type": "markdown",
   "id": "ccbba3a4",
   "metadata": {
    "ExecuteTime": {
     "end_time": "2024-07-10T02:24:32.645630Z",
     "start_time": "2024-07-10T02:24:32.642446Z"
    }
   },
   "source": [
    "### test model"
   ]
  },
  {
   "cell_type": "code",
   "execution_count": 28,
   "id": "ae6805ce",
   "metadata": {
    "ExecuteTime": {
     "end_time": "2024-07-10T02:49:31.305070Z",
     "start_time": "2024-07-10T02:49:31.299831Z"
    }
   },
   "outputs": [],
   "source": [
    "def test_model(model):\n",
    "    model.eval()\n",
    "    test_loss = 0\n",
    "    correct = 0\n",
    "    with torch.no_grad():\n",
    "        for data, target in test_dataloader:\n",
    "            output = model(data)\n",
    "            test_loss += nn.CrossEntropyLoss(reduction='sum')(output, target).item()  # reduction=sum是对所有所有样本loss求和(即不取平均)\n",
    "            pred = output.argmax(dim=1, keepdim=True)  # argmax返回最大值索引index; keepdim=True表示保持tensor维度。\n",
    "            correct += pred.eq(target.view_as(pred)).sum().item()\n",
    "    \n",
    "    test_loss /= len(test_dataloader.dataset)  # 平均test loss\n",
    "    accuracy = 100. * correct / len(test_dataloader.dataset)  # 平均accuracy\n",
    "    print(f'Test set: Average loss: {test_loss:.4f}, Accuracy: {correct}/{len(test_dataloader.dataset)} ({accuracy:.2f}%)')"
   ]
  },
  {
   "cell_type": "markdown",
   "id": "843ac789",
   "metadata": {
    "ExecuteTime": {
     "end_time": "2024-07-10T02:29:38.178622Z",
     "start_time": "2024-07-10T02:29:38.175160Z"
    }
   },
   "source": [
    "### main"
   ]
  },
  {
   "cell_type": "code",
   "execution_count": 18,
   "id": "fbcc78a9",
   "metadata": {
    "ExecuteTime": {
     "end_time": "2024-07-10T02:40:08.976308Z",
     "start_time": "2024-07-10T02:39:54.966984Z"
    },
    "collapsed": true
   },
   "outputs": [
    {
     "name": "stdout",
     "output_type": "stream",
     "text": [
      "Downloading http://yann.lecun.com/exdb/mnist/train-images-idx3-ubyte.gz\n",
      "Failed to download (trying next):\n",
      "HTTP Error 403: Forbidden\n",
      "\n",
      "Downloading https://ossci-datasets.s3.amazonaws.com/mnist/train-images-idx3-ubyte.gz\n",
      "Downloading https://ossci-datasets.s3.amazonaws.com/mnist/train-images-idx3-ubyte.gz to ./data\\MNIST\\raw\\train-images-idx3-ubyte.gz\n"
     ]
    },
    {
     "name": "stderr",
     "output_type": "stream",
     "text": [
      "100%|███████████████████████████████████████████████████████████████████| 9912422/9912422 [00:02<00:00, 4955023.13it/s]\n"
     ]
    },
    {
     "name": "stdout",
     "output_type": "stream",
     "text": [
      "Extracting ./data\\MNIST\\raw\\train-images-idx3-ubyte.gz to ./data\\MNIST\\raw\n",
      "\n",
      "Downloading http://yann.lecun.com/exdb/mnist/train-labels-idx1-ubyte.gz\n",
      "Failed to download (trying next):\n",
      "HTTP Error 403: Forbidden\n",
      "\n",
      "Downloading https://ossci-datasets.s3.amazonaws.com/mnist/train-labels-idx1-ubyte.gz\n",
      "Downloading https://ossci-datasets.s3.amazonaws.com/mnist/train-labels-idx1-ubyte.gz to ./data\\MNIST\\raw\\train-labels-idx1-ubyte.gz\n"
     ]
    },
    {
     "name": "stderr",
     "output_type": "stream",
     "text": [
      "100%|████████████████████████████████████████████████████████████████████████| 28881/28881 [00:00<00:00, 148332.99it/s]\n"
     ]
    },
    {
     "name": "stdout",
     "output_type": "stream",
     "text": [
      "Extracting ./data\\MNIST\\raw\\train-labels-idx1-ubyte.gz to ./data\\MNIST\\raw\n",
      "\n",
      "Downloading http://yann.lecun.com/exdb/mnist/t10k-images-idx3-ubyte.gz\n",
      "Failed to download (trying next):\n",
      "HTTP Error 403: Forbidden\n",
      "\n",
      "Downloading https://ossci-datasets.s3.amazonaws.com/mnist/t10k-images-idx3-ubyte.gz\n",
      "Downloading https://ossci-datasets.s3.amazonaws.com/mnist/t10k-images-idx3-ubyte.gz to ./data\\MNIST\\raw\\t10k-images-idx3-ubyte.gz\n"
     ]
    },
    {
     "name": "stderr",
     "output_type": "stream",
     "text": [
      "100%|████████████████████████████████████████████████████████████████████| 1648877/1648877 [00:02<00:00, 554616.50it/s]\n"
     ]
    },
    {
     "name": "stdout",
     "output_type": "stream",
     "text": [
      "Extracting ./data\\MNIST\\raw\\t10k-images-idx3-ubyte.gz to ./data\\MNIST\\raw\n",
      "\n",
      "Downloading http://yann.lecun.com/exdb/mnist/t10k-labels-idx1-ubyte.gz\n",
      "Failed to download (trying next):\n",
      "HTTP Error 403: Forbidden\n",
      "\n",
      "Downloading https://ossci-datasets.s3.amazonaws.com/mnist/t10k-labels-idx1-ubyte.gz\n",
      "Downloading https://ossci-datasets.s3.amazonaws.com/mnist/t10k-labels-idx1-ubyte.gz to ./data\\MNIST\\raw\\t10k-labels-idx1-ubyte.gz\n"
     ]
    },
    {
     "name": "stderr",
     "output_type": "stream",
     "text": [
      "100%|█████████████████████████████████████████████████████████████████████████| 4542/4542 [00:00<00:00, 2279589.42it/s]"
     ]
    },
    {
     "name": "stdout",
     "output_type": "stream",
     "text": [
      "Extracting ./data\\MNIST\\raw\\t10k-labels-idx1-ubyte.gz to ./data\\MNIST\\raw\n",
      "\n"
     ]
    },
    {
     "name": "stderr",
     "output_type": "stream",
     "text": [
      "\n"
     ]
    }
   ],
   "source": [
    "# 数据准备\n",
    "transform = transforms.Compose([\n",
    "    transforms.ToTensor(),\n",
    "    transforms.Normalize((0.1307,), (0.3081))\n",
    "])\n",
    "# dataset download\n",
    "train_dataset = datasets.MNIST(root='./data', train=True, transform=transform, download=True)\n",
    "test_dataset = datasets.MNIST(root='./data', train=False, transform=transform, download=True)\n",
    "\n",
    "# create dataloader\n",
    "train_dataloader = DataLoader(train_dataset, batch_size=64, shuffle=True)\n",
    "test_dataloader = DataLoader(test_dataset, batch_size=1000, shuffle=True) "
   ]
  },
  {
   "cell_type": "code",
   "execution_count": null,
   "id": "9d817689",
   "metadata": {
    "ExecuteTime": {
     "end_time": "2024-07-10T02:47:34.494610Z",
     "start_time": "2024-07-10T02:44:08.628287Z"
    }
   },
   "outputs": [],
   "source": [
    "# initialize model\n",
    "teacher_model = TeacherNet()\n",
    "student_model = StudentNet()\n",
    "\n",
    "# define optimizer\n",
    "optimizer = optim.Adam(student_model.parameters(), lr=0.001)\n",
    "\n",
    "# training and testing\n",
    "train_teacher()\n",
    "train_student(temperature=2.0, alpha=0.7)"
   ]
  },
  {
   "cell_type": "code",
   "execution_count": 29,
   "id": "28897f9d",
   "metadata": {
    "ExecuteTime": {
     "end_time": "2024-07-10T02:49:37.671690Z",
     "start_time": "2024-07-10T02:49:35.491743Z"
    }
   },
   "outputs": [
    {
     "name": "stdout",
     "output_type": "stream",
     "text": [
      "Test set: Average loss: 0.0925, Accuracy: 9739/10000 (97.39%)\n"
     ]
    }
   ],
   "source": [
    "test_model(student_model)"
   ]
  },
  {
   "cell_type": "code",
   "execution_count": null,
   "id": "d566fd33",
   "metadata": {},
   "outputs": [],
   "source": []
  }
 ],
 "metadata": {
  "kernelspec": {
   "display_name": "Python 3 (ipykernel)",
   "language": "python",
   "name": "python3"
  },
  "language_info": {
   "codemirror_mode": {
    "name": "ipython",
    "version": 3
   },
   "file_extension": ".py",
   "mimetype": "text/x-python",
   "name": "python",
   "nbconvert_exporter": "python",
   "pygments_lexer": "ipython3",
   "version": "3.11.7"
  },
  "toc": {
   "base_numbering": 1,
   "nav_menu": {},
   "number_sections": true,
   "sideBar": true,
   "skip_h1_title": false,
   "title_cell": "Table of Contents",
   "title_sidebar": "Contents",
   "toc_cell": false,
   "toc_position": {
    "height": "calc(100% - 180px)",
    "left": "10px",
    "top": "150px",
    "width": "384px"
   },
   "toc_section_display": true,
   "toc_window_display": true
  }
 },
 "nbformat": 4,
 "nbformat_minor": 5
}
